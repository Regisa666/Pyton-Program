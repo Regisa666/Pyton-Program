{
  "nbformat": 4,
  "nbformat_minor": 0,
  "metadata": {
    "colab": {
      "name": "Untitled4.ipynb",
      "provenance": [],
      "authorship_tag": "ABX9TyOkDtYM8/Cl3H44P/gx6PMt",
      "include_colab_link": true
    },
    "kernelspec": {
      "name": "python3",
      "display_name": "Python 3"
    }
  },
  "cells": [
    {
      "cell_type": "markdown",
      "metadata": {
        "id": "view-in-github",
        "colab_type": "text"
      },
      "source": [
        "<a href=\"https://colab.research.google.com/github/Regisa666/Pyton-Program/blob/main/TugasMinggu13RegisaNusyahya_1101184382.ipynb\" target=\"_parent\"><img src=\"https://colab.research.google.com/assets/colab-badge.svg\" alt=\"Open In Colab\"/></a>"
      ]
    },
    {
      "cell_type": "code",
      "metadata": {
        "id": "a9e84RFCli7a"
      },
      "source": [
        "import numpy as np\r\n",
        "import matplotlib.pyplot as plt"
      ],
      "execution_count": 1,
      "outputs": []
    },
    {
      "cell_type": "code",
      "metadata": {
        "id": "WKToUO8dnWXq"
      },
      "source": [
        "def cos(frek,tipe,ht,hr,d):\r\n",
        "  #frek = frekuensi (MHz)\r\n",
        "  #tipe = urban, suburban, open\r\n",
        "  #ht = tinggi tower (meter)\r\n",
        "  #hr = tinggi user (meter)\r\n",
        "  #d = jarak (meter)\r\n",
        "    if frek in range(150,1501):\r\n",
        "        Ca=69.55\r\n",
        "        Cb=26.16\r\n",
        "    elif frek in range(1501,2001):\r\n",
        "        Ca=46.3\r\n",
        "        Cb=33.9\r\n",
        "    \r\n",
        "    if tipe=='urban' :\r\n",
        "        Cm=0\r\n",
        "    elif tipe=='suburban' :\r\n",
        "        Cm= -2*((np.log10((frek/28)**2))-5.4)\r\n",
        "    elif tipe=='open' :\r\n",
        "        Cm= -4.78*(np.log10(frek))+18.33*(np.log10(frek))-40.94\r\n",
        "    else :\r\n",
        "        Cm='tipe salah'\r\n",
        "    \r\n",
        "    ahr = (1.1*np.log10(frek)-0.7)*hr-(1.56*np.log10(frek)-1.8)\r\n",
        "    Lp = Ca+(Cb*np.log10(frek))-(13.83*np.log(ht))-ahr+((44.9-6.55*np.log10(ht))*np.log10(d))-Cm\r\n",
        "    \r\n",
        "    return Lp"
      ],
      "execution_count": 2,
      "outputs": []
    },
    {
      "cell_type": "code",
      "metadata": {
        "id": "uya61-28nbhX"
      },
      "source": [
        "f=1800 #MHz\r\n",
        "loc='urban'\r\n",
        "tower=80 #m\r\n",
        "user=1.5 #m\r\n",
        "dmin=200 #m\r\n",
        "dmax=700 #m\r\n",
        "N=200 #titik\r\n",
        "d=np.random.randint(dmin,dmax,N)"
      ],
      "execution_count": 3,
      "outputs": []
    },
    {
      "cell_type": "code",
      "metadata": {
        "colab": {
          "base_uri": "https://localhost:8080/"
        },
        "id": "tAmz8ej6nimJ",
        "outputId": "87249695-255c-4b87-b316-3bfa8b85c7b9"
      },
      "source": [
        "print(d)"
      ],
      "execution_count": 4,
      "outputs": [
        {
          "output_type": "stream",
          "text": [
            "[659 363 284 592 519 449 660 264 277 232 236 205 269 437 517 366 247 356\n",
            " 494 326 290 658 605 446 569 340 280 376 468 565 673 511 489 599 231 670\n",
            " 224 419 428 267 351 423 391 349 599 665 349 280 314 563 558 401 517 531\n",
            " 327 309 585 220 393 316 660 693 479 433 321 335 207 529 393 612 334 466\n",
            " 543 689 253 472 685 528 349 566 321 648 574 222 412 561 376 492 519 336\n",
            " 569 260 236 385 386 478 460 497 209 294 257 274 272 420 489 582 382 572\n",
            " 617 376 379 359 379 344 595 617 430 350 602 427 629 377 560 499 390 430\n",
            " 213 214 349 371 527 445 490 313 538 240 446 260 391 645 640 671 221 355\n",
            " 583 304 335 556 497 262 288 495 547 474 457 564 253 245 291 265 224 535\n",
            " 664 377 209 587 468 275 694 631 445 494 521 573 515 344 685 512 681 659\n",
            " 217 427 622 336 474 220 229 231 376 571 265 536 573 203 684 683 527 635\n",
            " 596 438]\n"
          ],
          "name": "stdout"
        }
      ]
    },
    {
      "cell_type": "code",
      "metadata": {
        "id": "6FiRRIRPnoxK"
      },
      "source": [
        "LpUrban=cos(f,loc,tower,user,d)"
      ],
      "execution_count": 5,
      "outputs": []
    },
    {
      "cell_type": "code",
      "metadata": {
        "colab": {
          "base_uri": "https://localhost:8080/"
        },
        "id": "N52vpHrHnskT",
        "outputId": "ad50608a-d9f0-4d64-8682-de6d41c9b425"
      },
      "source": [
        "print(LpUrban)"
      ],
      "execution_count": 6,
      "outputs": [
        {
          "output_type": "stream",
          "text": [
            "[186.43720858 178.03729354 174.58012804 184.92692586 183.07313824\n",
            " 181.03231012 186.45856755 173.55147864 174.22858158 171.7313715\n",
            " 171.97216775 169.98851806 173.81576852 180.65071828 183.01875116\n",
            " 178.15323031 172.61388787 177.76300487 182.37772371 176.5229462\n",
            " 174.87462457 186.41581717 185.23290462 180.93787689 184.36874179\n",
            " 177.11524764 174.3803199  178.53293625 181.61611999 184.26936756\n",
            " 186.73332658 182.8543185  182.23442403 185.09250907 171.67052372\n",
            " 186.67039466 171.23706683 180.05821908 180.35758368 173.71064686\n",
            " 177.56376198 180.19205607 179.08396756 177.48326897 185.09250907\n",
            " 186.56487928 177.48326897 174.3803199  175.99465037 184.21941631\n",
            " 184.0937577  179.43969953 183.01875116 183.3951234  176.56608938\n",
            " 175.76854219 184.75937306 170.98325388 179.15583628 176.0840871\n",
            " 186.45856755 187.14583739 181.94337571 180.52118874 176.30522567\n",
            " 176.90655882 170.12527872 183.34196773 179.15583628 185.39495023\n",
            " 176.86444747 181.5557934  183.70991276 187.06429599 172.9519738\n",
            " 181.73600358 186.98227982 183.31531448 177.48326897 184.29427692\n",
            " 176.30522567 186.20009722 184.49198175 171.11073201 179.8209002\n",
            " 184.1692873  178.53293625 182.32057865 183.07313824 176.94854466\n",
            " 184.36874179 173.3364174  171.97216775 178.8661348  178.902675\n",
            " 181.91393737 181.37324781 182.46300896 170.26072435 175.06758974\n",
            " 173.17293892 174.07519091 173.97199457 180.09179773 182.23442403\n",
            " 184.68695008 178.75594203 184.44281507 185.5095663  178.53293625\n",
            " 178.64488045 177.88121175 178.64488045 177.28000084 184.99812856\n",
            " 185.5095663  180.42325391 177.52357297 185.16288176 180.3246334\n",
            " 185.78089869 178.57034992 184.14415574 182.51958027 179.04789523\n",
            " 180.42325391 170.52777003 170.59374784 177.48326897 178.34436265\n",
            " 183.2886107  180.90625794 182.26320082 175.94971816 183.57960436\n",
            " 172.20891681 180.93787689 173.3364174  179.08396756 186.13473173\n",
            " 186.02511066 186.69140322 171.04713715 177.72338111 184.71113247\n",
            " 175.53874529 176.90655882 184.04317869 182.46300896 173.44435845\n",
            " 174.77714157 182.40620954 183.81329845 181.79556493 181.28108017\n",
            " 184.24441408 172.9519738  172.49936498 174.92311425 173.6047348\n",
            " 171.23706683 183.50083675 186.54368103 178.57034992 170.26072435\n",
            " 184.807449   181.61611999 174.12650695 187.1661492  185.82561694\n",
            " 180.90625794 182.37772371 183.12731614 184.46741986 182.96415327\n",
            " 177.28000084 186.98227982 182.88185758 186.89978332 186.43720858\n",
            " 170.78984712 180.3246334  185.62325729 176.94854466 181.79556493\n",
            " 170.98325388 171.54803393 171.67052372 178.53293625 184.41816723\n",
            " 173.6047348  183.52714159 184.46741986 169.85041658 186.96170094\n",
            " 186.94109196 183.2886107  185.91462979 185.02178304 180.68291541]\n"
          ],
          "name": "stdout"
        }
      ]
    },
    {
      "cell_type": "code",
      "metadata": {
        "id": "4IdgZds-nxSt"
      },
      "source": [
        "d_sort=d[np.argsort(d)]\r\n",
        "Urban_sort=LpUrban[np.argsort(d)]"
      ],
      "execution_count": 7,
      "outputs": []
    },
    {
      "cell_type": "code",
      "metadata": {
        "id": "WSu-Zu25n6NF"
      },
      "source": [
        "f=1800 #MHz\r\n",
        "loc='suburban'\r\n",
        "tower=80 #m\r\n",
        "user=1.5 #m\r\n",
        "dmin=200 #m\r\n",
        "dmax=700 #m\r\n",
        "N=200 #titik\r\n",
        "a=np.random.randint(dmin,dmax,N)"
      ],
      "execution_count": 8,
      "outputs": []
    },
    {
      "cell_type": "code",
      "metadata": {
        "colab": {
          "base_uri": "https://localhost:8080/"
        },
        "id": "oENvWkKrn9me",
        "outputId": "523b5b91-b998-4bc5-bcb4-96eb7b83854d"
      },
      "source": [
        "print(a)"
      ],
      "execution_count": 9,
      "outputs": [
        {
          "output_type": "stream",
          "text": [
            "[522 253 361 663 347 433 642 578 576 434 337 286 258 479 439 320 248 379\n",
            " 673 555 682 322 561 227 672 447 671 667 560 698 233 574 421 352 569 246\n",
            " 249 538 680 291 588 375 480 258 351 311 642 473 298 391 695 270 532 550\n",
            " 508 474 680 277 208 626 345 394 631 551 377 420 385 371 365 385 508 386\n",
            " 366 416 500 520 694 583 687 326 595 435 319 207 538 404 688 521 627 523\n",
            " 425 291 371 569 411 416 528 641 321 301 639 654 381 434 676 519 652 311\n",
            " 344 681 658 207 200 362 341 587 643 353 227 475 295 267 485 574 320 521\n",
            " 517 364 572 319 221 498 627 619 311 286 475 315 641 416 604 507 286 655\n",
            " 304 552 640 221 668 233 297 632 587 244 605 207 296 681 270 603 649 551\n",
            " 612 360 666 659 693 249 417 203 406 302 526 431 534 679 674 489 399 641\n",
            " 292 318 412 217 534 296 680 686 494 486 407 643 258 498 602 454 273 238\n",
            " 201 283]\n"
          ],
          "name": "stdout"
        }
      ]
    },
    {
      "cell_type": "code",
      "metadata": {
        "id": "PbT-6GfsoBTN"
      },
      "source": [
        "Lpsuburban=cos(f,loc,tower,user,a)"
      ],
      "execution_count": 10,
      "outputs": []
    },
    {
      "cell_type": "code",
      "metadata": {
        "colab": {
          "base_uri": "https://localhost:8080/"
        },
        "id": "En8aJmrBoJhP",
        "outputId": "30c26a1e-e801-431e-e367-335b1c3257a5"
      },
      "source": [
        "print(Lpsuburban)"
      ],
      "execution_count": 11,
      "outputs": [
        {
          "output_type": "stream",
          "text": [
            "[179.58678505 169.3844317  174.39192672 182.95490872 173.83477126\n",
            " 176.95364664 182.50151941 181.02226113 180.9734353  176.98614086\n",
            " 173.42286362 171.11143713 169.66010072 178.3758336  177.147497\n",
            " 172.69373271 169.10325994 175.07733835 183.16578447 180.45027882\n",
            " 183.35291068 172.78149772 180.6017452  167.85692755 183.14483839\n",
            " 177.40188292 183.12386112 183.03963822 180.57661363 183.67956271\n",
            " 168.22441545 180.92443964 176.55775442 174.03629454 180.80119968\n",
            " 168.98920071 169.15994507 180.01206226 183.31154137 171.35557214\n",
            " 181.26388348 174.92788084 178.40521054 169.66010072 173.99621987\n",
            " 172.29187935 182.50151941 178.19827363 171.6904051  175.51642546\n",
            " 183.61888966 170.30049452 179.8540841  180.32280069 179.20383462\n",
            " 178.22802283 183.31154137 170.66103948 166.62562223 182.14601189\n",
            " 173.75334769 175.62409149 182.25807483 180.34838877 175.00280781\n",
            " 176.52425562 175.2985927  174.77682055 174.54714854 175.2985927\n",
            " 179.20383462 175.33513289 174.5856882  176.38945806 178.98023885\n",
            " 179.53271113 183.5986071  181.14359037 183.45580549 172.95540409\n",
            " 181.43058646 177.01856029 172.6496443  166.55773661 180.01206226\n",
            " 175.97714851 183.47629457 179.55977404 182.16849591 179.61374436\n",
            " 176.69095861 171.35557214 174.77682055 180.80119968 176.21912664\n",
            " 176.38945806 179.74777237 182.47956112 172.73768357 171.83150381\n",
            " 182.43554159 182.76238311 175.15147661 176.98614086 183.22843649\n",
            " 179.50559614 182.71923993 172.29187935 173.71245873 183.33224121\n",
            " 182.84827507 166.55773661 166.07314994 174.43089283 173.58907484\n",
            " 181.2399069  182.52344351 174.07625553 167.85692755 178.25770932\n",
            " 171.54787871 170.14310475 178.55118322 180.92443964 172.69373271\n",
            " 179.55977404 179.45120905 174.50850315 180.87527297 172.6496443\n",
            " 167.47959505 178.92378091 182.16849591 181.98761076 172.29187935\n",
            " 171.11143713 178.25770932 172.47189761 182.47956112 176.38945806\n",
            " 181.64206022 179.17607848 171.11143713 182.78390525 171.97120318\n",
            " 180.37393046 182.45756855 167.47959505 183.0607412  168.22441545\n",
            " 171.64305635 182.28038084 181.2399069  168.87421038 181.66536252\n",
            " 166.55773661 171.59554792 183.33224121 170.30049452 181.61871931\n",
            " 182.65427638 180.34838877 181.82740812 174.35285253 183.01850358\n",
            " 182.86966647 183.57829529 169.15994507 176.42327858 166.28287448\n",
            " 176.04671031 171.87822438 179.6943141  176.88843246 179.90694059\n",
            " 183.29081107 183.18669946 178.66688192 175.8017261  182.47956112\n",
            " 171.40389547 172.60541745 176.25335809 167.22230502 179.90694059\n",
            " 171.59554792 183.31154137 183.43528657 178.81018161 178.58019711\n",
            " 176.08136282 182.52344351 169.66010072 178.92378091 181.59533965\n",
            " 177.62076338 170.45614514 168.52349755 166.14340564 170.96289898]\n"
          ],
          "name": "stdout"
        }
      ]
    },
    {
      "cell_type": "code",
      "metadata": {
        "id": "yeqabZfPoQrm"
      },
      "source": [
        "a_sort=a[np.argsort(a)]\r\n",
        "suburban_sort=Lpsuburban[np.argsort(a)]"
      ],
      "execution_count": 12,
      "outputs": []
    },
    {
      "cell_type": "code",
      "metadata": {
        "id": "rJu5MtymoTOG"
      },
      "source": [
        "f=1800 #MHz\r\n",
        "loc='open'\r\n",
        "tower=80 #m\r\n",
        "user=1.5 #m\r\n",
        "dmin=200 #m\r\n",
        "dmax=700 #m\r\n",
        "N=200 #titik\r\n",
        "b=np.random.randint(dmin,dmax,N)"
      ],
      "execution_count": 13,
      "outputs": []
    },
    {
      "cell_type": "code",
      "metadata": {
        "colab": {
          "base_uri": "https://localhost:8080/"
        },
        "id": "k9mTEBEjoW5P",
        "outputId": "1f7a748b-5a88-4c11-92e3-0bbb9d460403"
      },
      "source": [
        "print(b)"
      ],
      "execution_count": 14,
      "outputs": [
        {
          "output_type": "stream",
          "text": [
            "[424 404 502 417 644 447 282 329 363 512 677 463 215 271 538 580 698 311\n",
            " 597 422 553 513 408 434 603 647 316 225 299 201 311 312 271 222 375 448\n",
            " 221 653 534 519 268 525 485 332 678 611 200 304 600 530 661 329 441 449\n",
            " 489 354 616 683 469 365 675 668 287 453 537 212 447 516 670 623 225 347\n",
            " 293 682 367 354 599 246 284 349 237 670 302 625 231 644 358 469 379 480\n",
            " 324 229 335 594 601 298 538 306 310 627 422 331 249 281 439 359 496 626\n",
            " 252 339 556 286 621 538 445 320 302 267 365 341 374 315 584 682 579 561\n",
            " 614 296 618 225 318 298 499 281 691 216 297 569 664 497 236 419 368 233\n",
            " 423 438 659 379 274 219 484 238 683 649 453 637 294 277 609 591 562 401\n",
            " 290 326 668 694 210 486 435 378 585 615 668 404 456 651 675 235 478 582\n",
            " 667 433 210 319 320 587 546 693 619 505 457 394 270 573 569 236 549 390\n",
            " 466 360]\n"
          ],
          "name": "stdout"
        }
      ]
    },
    {
      "cell_type": "code",
      "metadata": {
        "id": "QYCyUuOloarE"
      },
      "source": [
        "Lpopen=cos(f,loc,tower,user,b)"
      ],
      "execution_count": 15,
      "outputs": []
    },
    {
      "cell_type": "code",
      "metadata": {
        "colab": {
          "base_uri": "https://localhost:8080/"
        },
        "id": "0ArFqDYWodmk",
        "outputId": "e8d9ddc5-2d3f-41e0-d47b-2031e0dc30f2"
      },
      "source": [
        "print(Lpopen)"
      ],
      "execution_count": 16,
      "outputs": [
        {
          "output_type": "stream",
          "text": [
            "[177.05637512 176.37574817 179.43507107 176.82187824 182.94393321\n",
            " 177.80048259 171.3116358  173.48303889 174.8683511  179.71291514\n",
            " 183.64785838 178.29587386 167.49047562 170.75116906 180.41066192\n",
            " 181.46951796 184.07816237 172.69047901 181.87645542 176.9897734\n",
            " 180.79802558 179.74040049 176.51452995 177.38474052 182.01731897\n",
            " 183.00939997 172.91514466 168.13086942 172.13619488 166.5420053\n",
            " 172.69047901 172.73569972 170.75116906 167.94178957 175.3264805\n",
            " 177.83196022 167.87819471 183.1394277  180.30554025 179.9041958\n",
            " 170.59436331 180.06610836 178.94978288 173.61090274 183.66864988\n",
            " 182.20297223 166.4717496  172.36980284 181.94706327 180.19962819\n",
            " 183.31095174 173.48303889 177.61012513 177.86336768 179.06548158\n",
            " 174.51470313 182.31777513 183.77214952 178.47724423 174.9457482\n",
            " 183.60618309 183.45934086 171.55920346 177.98830187 180.38445496\n",
            " 167.29253929 177.80048259 179.82253622 183.50145222 182.47694335\n",
            " 168.13086942 174.23337092 171.85065326 183.75151034 175.02272237\n",
            " 174.51470313 181.92356662 169.38780037 171.41118559 174.31432653\n",
            " 168.86278665 183.50145222 172.27682404 182.52209158 168.50158128\n",
            " 182.94393321 174.67297713 178.47724423 175.47593801 178.8038102\n",
            " 173.26731894 168.37909149 173.73761638 181.80549185 181.97052079\n",
            " 172.08900476 180.41066192 172.46217195 172.64511267 182.56709558\n",
            " 176.9897734  173.56841029 169.55854473 171.26159583 177.54609666\n",
            " 174.71226931 179.26569543 182.54461155 169.72724421 173.90481404\n",
            " 180.87423625 171.51003679 182.43164994 180.41066192 177.7373155\n",
            " 173.09233237 172.27682404 170.54170442 174.9457482  173.9876745\n",
            " 175.28886703 172.87049728 181.56633097 183.75151034 181.44521038\n",
            " 181.00034486 182.27196619 171.99414758 182.36343558 168.13086942\n",
            " 173.00401711 172.08900476 179.35063783 171.26159583 183.93618325\n",
            " 167.55584111 172.04165601 181.19979934 183.37473858 179.29406652\n",
            " 168.8032253  176.88927663 175.06105229 168.62301511 177.02311363\n",
            " 177.51397296 183.26826614 175.47593801 170.90624847 167.75013712\n",
            " 178.92070911 168.92209721 183.77214952 183.05287604 177.98830187\n",
            " 182.78998373 171.8986473  171.05963914 182.1567878  181.73416898\n",
            " 181.02543166 176.27075709 171.70568212 173.35400375 183.45934086\n",
            " 183.99720676 167.15901945 178.97879677 177.41715995 175.43872203\n",
            " 181.59043061 182.29488928 183.45934086 176.37574817 178.08128067\n",
            " 183.09621835 183.60618309 168.74341104 178.74499493 181.51800764\n",
            " 183.43823788 177.3522463  167.15901945 173.04824396 173.09233237\n",
            " 181.63850656 180.61858064 183.97689495 182.38621042 179.51900124\n",
            " 178.11213772 176.02269115 170.69909418 181.29847742 181.19979934\n",
            " 168.8032253  180.69576569 175.87895279 178.38685095 174.75145219]\n"
          ],
          "name": "stdout"
        }
      ]
    },
    {
      "cell_type": "code",
      "metadata": {
        "id": "LWGj2udPogtP"
      },
      "source": [
        "b_sort=b[np.argsort(b)]\r\n",
        "open_sort=Lpopen[np.argsort(b)]"
      ],
      "execution_count": 17,
      "outputs": []
    },
    {
      "cell_type": "code",
      "metadata": {
        "colab": {
          "base_uri": "https://localhost:8080/",
          "height": 295
        },
        "id": "Igl1r6aoolNQ",
        "outputId": "f876a3fa-98b9-4a9f-cf49-b7686996856d"
      },
      "source": [
        "plt.figure()\r\n",
        "plt.plot(d_sort,Urban_sort, label='Urban')\r\n",
        "plt.plot(b_sort,open_sort, label='Open')\r\n",
        "plt.plot(a_sort,suburban_sort, label='Suburban')\r\n",
        "plt.legend()\r\n",
        "plt.title('FREKUENSI 1800 MHZ (GAMBAR CONTOH)')\r\n",
        "plt.xlabel('Jarak (m)')\r\n",
        "plt.ylabel('Path Loss (dB)')\r\n",
        "plt.show()"
      ],
      "execution_count": 18,
      "outputs": [
        {
          "output_type": "display_data",
          "data": {
            "image/png": "[encoded data removed]",
            "text/plain": [
              "<Figure size 432x288 with 1 Axes>"
            ]
          },
          "metadata": {
            "tags": [],
            "needs_background": "light"
          }
        }
      ]
    },
    {
      "cell_type": "code",
      "metadata": {
        "id": "hBah9IY7oxKb"
      },
      "source": [
        "f=1800 #MHz\r\n",
        "loc='urban'\r\n",
        "tower=80 #m\r\n",
        "user=1.5 #m\r\n",
        "dmin=200 #m\r\n",
        "dmax=700 #m\r\n",
        "N=200 #titik\r\n",
        "x=np.random.randint(dmin,dmax,N)"
      ],
      "execution_count": 19,
      "outputs": []
    },
    {
      "cell_type": "code",
      "metadata": {
        "colab": {
          "base_uri": "https://localhost:8080/"
        },
        "id": "5HVB2aNTo0uZ",
        "outputId": "6529ac54-a14d-498e-bcf8-5c94d16413d9"
      },
      "source": [
        "print(x)"
      ],
      "execution_count": 20,
      "outputs": [
        {
          "output_type": "stream",
          "text": [
            "[696 581 673 317 486 214 514 312 604 403 474 424 310 513 523 354 433 229\n",
            " 234 513 566 391 300 405 236 492 259 438 369 691 499 432 312 693 398 314\n",
            " 221 458 603 655 699 497 284 442 526 640 612 430 500 353 261 494 378 612\n",
            " 510 460 487 343 526 697 601 367 308 273 663 423 320 507 245 425 581 393\n",
            " 487 312 437 366 576 559 324 248 400 594 272 329 274 276 687 484 544 268\n",
            " 370 589 209 447 215 445 482 591 530 692 333 660 639 688 237 694 566 516\n",
            " 440 464 592 424 253 453 601 289 530 497 268 368 220 457 556 673 525 227\n",
            " 591 348 504 418 207 436 687 298 306 478 688 476 293 631 306 271 492 244\n",
            " 523 269 348 280 277 595 337 579 516 308 538 206 279 497 499 544 384 478\n",
            " 246 249 294 522 451 603 341 692 281 220 299 409 642 674 550 636 222 637\n",
            " 389 318 601 243 260 230 456 614 560 251 594 545 218 285 447 351 426 421\n",
            " 662 366]\n"
          ],
          "name": "stdout"
        }
      ]
    },
    {
      "cell_type": "code",
      "metadata": {
        "id": "OH_IFTd6o3Jq"
      },
      "source": [
        "LpUrban1=cos(f,loc,tower,user,x)"
      ],
      "execution_count": 21,
      "outputs": []
    },
    {
      "cell_type": "code",
      "metadata": {
        "colab": {
          "base_uri": "https://localhost:8080/"
        },
        "id": "aE-Y-xOao6tl",
        "outputId": "ff628913-1e1d-4075-d386-dcd964e8afec"
      },
      "source": [
        "print(LpUrban1)"
      ],
      "execution_count": 22,
      "outputs": [
        {
          "output_type": "stream",
          "text": [
            "[187.20668516 184.66272611 186.73332658 176.12859342 182.14773921\n",
            " 170.59374784 182.93677476 175.90464216 185.20960232 179.50978046\n",
            " 181.79556493 180.22531757 175.81405511 182.90934294 183.18128647\n",
            " 177.68364557 180.52118874 171.54803393 171.85228415 182.90934294\n",
            " 184.29427692 179.08396756 175.35216988 179.57951445 171.97216775\n",
            " 182.32057865 173.28213511 180.68291541 178.26822064 187.10512569\n",
            " 182.51958027 180.48861939 175.90464216 187.14583739 179.33392003\n",
            " 175.99465037 171.04713715 181.31186977 185.18626141 186.35144736\n",
            " 187.26727123 182.46300896 174.58012804 180.81097299 183.26185621\n",
            " 186.02511066 185.39495023 180.42325391 182.54778096 177.64379763\n",
            " 173.39049132 182.37772371 178.60766448 185.39495023 182.82672547\n",
            " 181.37324781 182.17669346 177.23899284 183.26185621 187.22690949\n",
            " 185.13946324 178.19166482 175.72288173 174.02368724 186.52245082\n",
            " 180.19205607 176.26127482 182.74362058 172.49936498 180.25850071\n",
            " 184.66272611 179.15583628 182.17669346 175.90464216 180.65071828\n",
            " 178.15323031 184.5409774  184.11897926 176.43626138 172.67080204\n",
            " 179.40452789 184.9744343  173.97199457 176.65198134 174.07519091\n",
            " 174.17763673 187.0233476  182.08965155 183.73583041 173.76330575\n",
            " 178.30634309 184.85536142 170.26072435 180.96942503 170.65941807\n",
            " 180.90625794 182.03132336 184.90311142 183.36857064 187.12549625\n",
            " 176.82220984 186.45856755 186.0030837  187.04383667 172.03172909\n",
            " 187.1661492  184.29427692 182.99147866 180.74708972 181.49520734\n",
            " 184.92692586 180.22531757 172.9519738  181.15724431 185.13946324\n",
            " 174.82596739 183.36857064 182.46300896 173.76330575 178.22999474\n",
            " 170.98325388 181.28108017 184.04317869 186.73332658 183.2350508\n",
            " 171.42446965 184.90311142 177.44284933 182.66002249 180.02456019\n",
            " 170.12527872 180.61844739 187.0233476  175.2579472  175.63111439\n",
            " 181.91393737 187.04383667 181.85487549 175.0195957  185.82561694\n",
            " 175.63111439 173.9201115  182.32057865 172.44175248 183.18128647\n",
            " 173.81576852 177.44284933 174.3803199  174.22858158 184.99812856\n",
            " 176.99040572 184.61415283 182.99147866 175.72288173 183.57960436\n",
            " 170.05706436 174.32992186 182.46300896 182.51958027 183.73583041\n",
            " 178.82949958 181.91393737 172.55674281 172.72748718 175.06758974\n",
            " 183.15432715 181.09491573 185.18626141 177.15661694 187.12549625\n",
            " 174.43053827 170.98325388 175.30513732 179.71795525 186.06906151\n",
            " 186.75424156 183.89034279 185.9367954  171.11073201 185.95892618\n",
            " 179.01173029 176.17295956 185.13946324 172.38390337 173.3364174\n",
            " 171.60941197 181.25022312 185.44090863 184.14415574 172.84017768\n",
            " 184.9744343  183.76170046 170.85461155 174.62964035 180.96942503\n",
            " 177.56376198 180.29160587 180.12529653 186.50118857 178.15323031]\n"
          ],
          "name": "stdout"
        }
      ]
    },
    {
      "cell_type": "code",
      "metadata": {
        "id": "myX9EW3eo9_Q"
      },
      "source": [
        "x_sort=x[np.argsort(x)]\r\n",
        "Urban_sort1=LpUrban1[np.argsort(x)]"
      ],
      "execution_count": 23,
      "outputs": []
    },
    {
      "cell_type": "code",
      "metadata": {
        "id": "sa1psCDTpByM"
      },
      "source": [
        "f=900 #MHz\r\n",
        "loc='urban'\r\n",
        "tower=80 #m\r\n",
        "user=1.5 #m\r\n",
        "dmin=200 #m\r\n",
        "dmax=700 #m\r\n",
        "N=200 #titik\r\n",
        "y=np.random.randint(dmin,dmax,N)"
      ],
      "execution_count": 24,
      "outputs": []
    },
    {
      "cell_type": "code",
      "metadata": {
        "colab": {
          "base_uri": "https://localhost:8080/"
        },
        "id": "q-hQucgXpETH",
        "outputId": "dba7dcd6-8ecc-44e8-b0ab-633201815d2d"
      },
      "source": [
        "print(y)"
      ],
      "execution_count": 25,
      "outputs": [
        {
          "output_type": "stream",
          "text": [
            "[311 460 600 348 670 417 631 273 369 578 463 220 640 349 436 652 610 277\n",
            " 330 414 482 527 634 536 202 696 236 453 652 632 656 401 629 407 431 570\n",
            " 354 416 513 564 624 649 468 364 625 477 286 252 344 679 393 650 512 235\n",
            " 455 442 511 424 250 393 333 505 575 589 392 653 668 564 653 386 337 554\n",
            " 374 382 331 402 467 291 332 513 295 564 532 575 619 363 388 590 208 594\n",
            " 436 271 520 346 556 375 445 365 294 309 474 232 697 605 484 250 613 645\n",
            " 299 631 294 687 300 593 565 574 288 483 617 206 627 612 279 439 440 665\n",
            " 645 492 638 526 629 301 653 555 517 558 320 329 373 336 586 637 428 677\n",
            " 503 482 490 608 328 644 484 329 417 406 280 447 393 516 657 552 433 290\n",
            " 637 430 426 338 629 431 430 399 539 621 490 481 610 498 370 485 402 336\n",
            " 697 213 362 407 546 692 644 417 631 238 402 559 301 533 343 420 646 617\n",
            " 545 665]\n"
          ],
          "name": "stdout"
        }
      ]
    },
    {
      "cell_type": "code",
      "metadata": {
        "id": "239vBb-jpG-X"
      },
      "source": [
        "LpUrban2=cos(f,loc,tower,user,y)"
      ],
      "execution_count": 26,
      "outputs": []
    },
    {
      "cell_type": "code",
      "metadata": {
        "colab": {
          "base_uri": "https://localhost:8080/"
        },
        "id": "HWGk9WIqpKk0",
        "outputId": "ee1bad22-0e80-49fd-fe7e-fd75f79b3c3b"
      },
      "source": [
        "print(LpUrban2)"
      ],
      "execution_count": 27,
      "outputs": [
        {
          "output_type": "stream",
          "text": [
            "[166.06576028 171.57958663 175.32234454 167.64918815 176.87673349\n",
            " 170.19715951 176.03195576 164.23002607 168.47455947 174.79614206\n",
            " 171.67115513 161.18959271 176.23144948 167.6896078  170.82478621\n",
            " 176.49312086 175.55518021 164.43492041 166.90107053 170.09545338\n",
            " 172.23766219 173.49494953 176.09876808 173.73348041 159.9871936\n",
            " 177.41302399 162.17850657 171.36358314 176.49312086 176.05426176\n",
            " 176.57927549 169.64603836 175.98723751 169.85524375 170.66231339\n",
            " 174.59981501 167.8899844  170.16333899 173.11568176 174.4507529\n",
            " 175.87481682 176.42815731 171.82245881 168.28238408 175.89737285\n",
            " 172.09077621 164.88531806 163.10252547 167.48633966 177.064692\n",
            " 169.3621751  176.44984513 173.08819641 162.11869231 171.42563715\n",
            " 171.01731182 173.06065732 170.43165639 162.99028394 169.3621751\n",
            " 167.02854867 172.8942825  174.7228397  175.06170024 169.32628658\n",
            " 176.51470897 176.83462213 174.4507529  176.51470897 169.10901382\n",
            " 167.19674455 174.19875625 168.6641483  168.96228086 166.94369156\n",
            " 169.68112241 171.79232781 165.12945307 166.98618401 173.11568176\n",
            " 165.32175964 174.4507529  173.62796503 174.7228397  175.76149169\n",
            " 168.24363237 169.18181108 175.08559548 160.39950315 175.18077312\n",
            " 170.82478621 164.12645032 173.30659206 167.56799924 174.24951752\n",
            " 168.70176177 171.11259676 168.32102947 165.27392857 165.97488101\n",
            " 172.00190375 161.93771032 177.43324831 175.43924345 172.29599038\n",
            " 162.99028394 175.624287   176.34107056 165.51147614 176.03195576\n",
            " 165.27392857 177.22968642 165.5585087  175.15703893 174.47570639\n",
            " 174.69832057 164.98348039 172.26685647 175.71590512 160.26340318\n",
            " 175.94237684 175.60128905 164.53626068 170.92137793 170.95342854\n",
            " 176.7712181  176.34107056 172.52691748 176.18736106 173.46819503\n",
            " 175.98723751 165.60538474 176.51470897 174.22415975 173.22508998\n",
            " 174.30009652 166.46761364 166.85832016 168.62643412 167.15488348\n",
            " 174.98977036 176.165265   170.5639225  177.02313965 172.83838466\n",
            " 172.23766219 172.46953965 175.50891995 166.81543965 176.31921448\n",
            " 172.29599038 166.85832016 170.19715951 169.82059124 164.58665872\n",
            " 171.17576385 169.3621751  173.19781749 176.60073206 174.14781139\n",
            " 170.72752757 165.08096339 176.165265   170.62959273 170.49794469\n",
            " 167.23848158 175.98723751 170.66231339 170.62959273 169.57560702\n",
            " 173.81210148 175.80693121 172.46953965 172.20840727 175.55518021\n",
            " 172.69766184 168.51268192 172.32506415 169.68112241 167.15488348\n",
            " 177.43324831 160.73410885 168.20477376 169.85524375 173.99386191\n",
            " 177.33183507 176.31921448 170.19715951 176.03195576 162.29737848\n",
            " 169.68112241 174.32531808 165.60538474 173.65441807 167.44533166\n",
            " 170.29813655 176.36289277 175.71590512 173.96803928 176.7712181 ]\n"
          ],
          "name": "stdout"
        }
      ]
    },
    {
      "cell_type": "code",
      "metadata": {
        "id": "n4fzkvt7pNCV"
      },
      "source": [
        "y_sort=y[np.argsort(y)]\r\n",
        "Urban_sort2=LpUrban2[np.argsort(y)]"
      ],
      "execution_count": 28,
      "outputs": []
    },
    {
      "cell_type": "code",
      "metadata": {
        "id": "KqIy8gpkpQXd"
      },
      "source": [
        "f=700 #MHz\r\n",
        "loc='urban'\r\n",
        "tower=80 #m\r\n",
        "user=1.5 #m\r\n",
        "dmin=200 #m\r\n",
        "dmax=700 #m\r\n",
        "N=200 #titik\r\n",
        "z=np.random.randint(dmin,dmax,N)"
      ],
      "execution_count": 29,
      "outputs": []
    },
    {
      "cell_type": "code",
      "metadata": {
        "colab": {
          "base_uri": "https://localhost:8080/"
        },
        "id": "VvjZppUUpTIJ",
        "outputId": "21d0bc7a-bee2-4a3d-eaba-9344dc6f1263"
      },
      "source": [
        "print(z)"
      ],
      "execution_count": 30,
      "outputs": [
        {
          "output_type": "stream",
          "text": [
            "[339 587 540 662 560 251 620 580 238 590 318 450 429 654 257 334 591 658\n",
            " 566 447 431 327 381 619 435 614 298 440 416 216 641 551 542 638 220 301\n",
            " 202 512 294 392 449 605 542 673 435 471 421 385 360 252 687 259 643 626\n",
            " 501 305 252 321 699 412 231 416 390 359 311 331 543 206 674 249 693 567\n",
            " 350 551 697 626 246 479 529 544 530 446 476 412 226 428 280 571 267 655\n",
            " 597 399 337 345 650 399 441 406 281 317 634 208 404 387 422 325 475 348\n",
            " 421 525 210 310 495 421 370 699 349 481 576 460 544 639 536 438 619 498\n",
            " 558 595 500 511 329 650 399 398 476 432 583 488 401 665 564 569 623 462\n",
            " 263 535 569 611 254 571 427 651 341 205 684 540 573 576 559 393 617 349\n",
            " 609 338 520 621 591 499 212 296 333 503 465 580 639 649 535 534 644 424\n",
            " 504 419 259 283 209 526 637 342 362 267 441 370 452 479 252 394 411 411\n",
            " 598 381]\n"
          ],
          "name": "stdout"
        }
      ]
    },
    {
      "cell_type": "code",
      "metadata": {
        "id": "Jl6fINRjpVwO"
      },
      "source": [
        "LpUrban3=cos(f,loc,tower,user,z)"
      ],
      "execution_count": 31,
      "outputs": []
    },
    {
      "cell_type": "code",
      "metadata": {
        "colab": {
          "base_uri": "https://localhost:8080/"
        },
        "id": "RFwnRX9XpabH",
        "outputId": "79233154-335d-4511-f29a-f05e1360f53f"
      },
      "source": [
        "print(LpUrban3)"
      ],
      "execution_count": 32,
      "outputs": [
        {
          "output_type": "stream",
          "text": [
            "[164.43469899 172.16839151 170.99281497 173.86213108 171.50509824\n",
            " 160.20112018 172.93883345 171.99940291 159.45198216 172.24019916\n",
            " 163.53390206 168.42459021 167.75139957 173.69086772 160.53388143\n",
            " 164.22538997 172.26405393 173.77675968 171.65521943 168.33036754\n",
            " 167.81691707 163.92703188 166.07996122 172.91609537 167.9470449\n",
            " 172.80185113 162.61888971 168.10803223 167.31794267 158.08572606\n",
            " 173.40804573 171.27687338 171.04488984 173.34196474 158.34419639\n",
            " 162.75998842 157.14179728 170.24280009 162.42853225 166.48089026\n",
            " 168.39325263 172.59384713 171.04488984 174.09426909 167.9470449\n",
            " 169.06707071 167.48623903 166.22707731 165.28133714 160.25712916\n",
            " 174.3842901  160.64307761 173.45192813 173.0744965  169.9368678\n",
            " 162.94594806 160.25712916 163.66616818 174.62821373 167.1818427\n",
            " 159.03146623 167.31794267 166.40883774 165.24215426 163.22036396\n",
            " 164.09829524 171.07085527 157.41800686 174.11518407 160.08842968\n",
            " 174.5067799  171.68008481 164.88451548 171.27687338 174.58785199\n",
            " 173.0744965  159.91768532 169.30431821 170.70291023 171.09677291\n",
            " 170.72951314 168.2988194  169.215818   167.1818427  158.72322116\n",
            " 167.71852619 161.74126241 171.77910974 161.07158937 173.71238986\n",
            " 172.40634037 166.73021071 164.35134823 164.6818323  173.60444882\n",
            " 166.73021071 168.14001008 166.97519492 161.79148078 163.48953593\n",
            " 173.25337176 157.55410684 166.90563312 166.30006316 167.51965835\n",
            " 163.84061298 169.18619393 164.80379183 167.48623903 170.59599331\n",
            " 157.6889044  163.17499762 169.76715204 167.48623903 165.6672856\n",
            " 174.62821373 164.84421148 169.36301095 171.90191991 168.73419031\n",
            " 171.09677291 173.3640262  170.8880841  168.04385791 172.91609537\n",
            " 169.85226552 171.4547002  172.35907107 169.90872346 170.21526101\n",
            " 164.01292384 173.60444882 166.73021071 166.69486254 169.215818\n",
            " 167.8495619  172.07207498 169.56653082 166.80064204 173.92582179\n",
            " 171.60535659 171.72968429 173.0068283  168.79530207 160.85896287\n",
            " 170.86177926 171.72968429 172.73285718 160.36848339 171.77910974\n",
            " 167.68557591 173.6261033  164.51755945 157.34946056 174.32264345\n",
            " 170.99281497 171.82836237 171.90191991 171.47992176 166.51677878\n",
            " 172.87050881 164.84421148 172.68667275 164.39308526 170.46119575\n",
            " 172.96153489 172.26405393 169.88052278 157.82242424 162.52403253\n",
            " 164.18315235 169.99298835 168.88647544 171.99940291 173.3640262\n",
            " 173.58276099 170.86177926 170.8354252  173.47381816 167.58626007\n",
            " 170.02096499 167.41916158 160.64307761 161.89138359 157.62166686\n",
            " 170.62279871 173.31986868 164.55880761 165.35937744 161.07158937\n",
            " 168.14001008 165.6672856  168.487057   169.30431821 160.25712916\n",
            " 166.5525761  167.14761125 167.14761125 172.42991566 166.07996122]\n"
          ],
          "name": "stdout"
        }
      ]
    },
    {
      "cell_type": "code",
      "metadata": {
        "id": "9NgqZgR1qiCh"
      },
      "source": [
        "z_sort=z[np.argsort(z)]\r\n",
        "Urban_sort3=LpUrban3[np.argsort(z)]"
      ],
      "execution_count": 34,
      "outputs": []
    },
    {
      "cell_type": "code",
      "metadata": {
        "colab": {
          "base_uri": "https://localhost:8080/",
          "height": 295
        },
        "id": "aCDp_twirJ9b",
        "outputId": "ff09b43d-3320-492a-a749-58e43ca87e26"
      },
      "source": [
        "plt.figure()\r\n",
        "plt.plot(x_sort,Urban_sort1, label='700 Mhz')\r\n",
        "plt.plot(y_sort,Urban_sort2, label='900 Mhz')\r\n",
        "plt.plot(z_sort,Urban_sort3, label='1800 Mhz')\r\n",
        "plt.legend()\r\n",
        "plt.title('Model Urban (Contoh Gambar)')\r\n",
        "plt.xlabel('Jarak (m)')\r\n",
        "plt.ylabel('Path Loss (dB)')\r\n",
        "plt.show()"
      ],
      "execution_count": 35,
      "outputs": [
        {
          "output_type": "display_data",
          "data": {
            "image/png": "[encoded data removed]",
            "text/plain": [
              "<Figure size 432x288 with 1 Axes>"
            ]
          },
          "metadata": {
            "tags": [],
            "needs_background": "light"
          }
        }
      ]
    }
  ]
}